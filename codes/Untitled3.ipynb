{
 "cells": [
  {
   "cell_type": "code",
   "execution_count": 1,
   "id": "11b4f4f1-738b-4793-bcac-3fe6573008b4",
   "metadata": {},
   "outputs": [
    {
     "name": "stderr",
     "output_type": "stream",
     "text": [
      "Error in <TApplication::ExecuteFile>: macro /NPLib/scripts/NPToolLogon.C not found in path .:/opt/new/share/root/macros\n"
     ]
    },
    {
     "data": {
      "text/plain": [
       "0"
      ]
     },
     "execution_count": 1,
     "metadata": {},
     "output_type": "execute_result"
    }
   ],
   "source": [
    "import ROOT \n",
    "ROOT.gInterpreter.AddIncludePath((\"/home/pagroup/shahina/codes/dragon_analyzer/src\"))\n",
    "ROOT.gSystem.Load(\"/home/pagroup/shahina/codes/dragon_analyzer/lib/libDragon.so\")\n"
   ]
  },
  {
   "cell_type": "code",
   "execution_count": 2,
   "id": "a69398a2-0048-4368-a1f8-e18cc75c4e0f",
   "metadata": {},
   "outputs": [],
   "source": [
    "root_file = ROOT.TFile(\"/data/pagroup/pa02/S1805/data/rootfiles/run8959.root\")"
   ]
  },
  {
   "cell_type": "code",
   "execution_count": 3,
   "id": "37c82d93-4d5b-4fd6-a7a7-5065a7d65575",
   "metadata": {},
   "outputs": [
    {
     "name": "stdout",
     "output_type": "stream",
     "text": [
      "TFile**\t\t/data/pagroup/pa02/S1805/data/rootfiles/run8959.root\tS1805 MW, FH, SH N/A N/A N/A N/A N/A N/A Pulser DSSD Pulser Test\n",
      " TFile*\t\t/data/pagroup/pa02/S1805/data/rootfiles/run8959.root\tS1805 MW, FH, SH N/A N/A N/A N/A N/A N/A Pulser DSSD Pulser Test\n",
      "  KEY: TTree\tt1;1\tHead singles event.\n",
      "  KEY: TTree\tt2;1\tHead scaler event.\n",
      "  KEY: TTree\tt3;1\tTail singles event.\n",
      "  KEY: TTree\tt4;1\tTail scaler event.\n",
      "  KEY: TTree\tt5;1\tCoincidence event.\n",
      "  KEY: TTree\tt8;1\tAux scaler event.\n",
      "  KEY: TTree\tt20;1\tEpics event.\n",
      "  KEY: TTree\tt6;1\tTimestamp diagnostics.\n",
      "  KEY: TTree\tt7;1\tGlobal run parameters.\n",
      "  KEY: midas::Database\todbstart;1\tODB tree at run start.\n",
      "  KEY: midas::Database\todbstop;1\tODB tree at run stop.\n",
      "  KEY: midas::Database\tvariables;1\tODB tree used in analysis.\n"
     ]
    }
   ],
   "source": [
    "root_file.ls()"
   ]
  },
  {
   "cell_type": "code",
   "execution_count": 8,
   "id": "d7976f29-7611-4ade-81a5-a8003861f154",
   "metadata": {},
   "outputs": [],
   "source": [
    "tree = root_file.Get(\"t2\")"
   ]
  },
  {
   "cell_type": "code",
   "execution_count": 9,
   "id": "13a786d4-9064-4c60-b4a6-c6a35bde13ba",
   "metadata": {
    "scrolled": true
   },
   "outputs": [
    {
     "name": "stdout",
     "output_type": "stream",
     "text": [
      "******************************************************************************\n",
      "*Tree    :t2        : Head scaler event.                                     *\n",
      "*Entries :      253 : Total =           75010 bytes  File  Size =      24791 *\n",
      "*        :          : Tree compression factor =   2.85                       *\n",
      "******************************************************************************\n",
      "*Branch  :sch                                                                *\n",
      "*Entries :      253 : BranchElement (see below)                              *\n",
      "*............................................................................*\n",
      "*Br    0 :count[17] : UInt_t                                                 *\n",
      "*Entries :      253 : Total  Size=      18885 bytes  One basket in memory    *\n",
      "*Baskets :        0 : Basket Size=      32000 bytes  Compression=   1.00     *\n",
      "*............................................................................*\n",
      "*Br    1 :sum[17]   : UInt_t                                                 *\n",
      "*Entries :      253 : Total  Size=      18873 bytes  One basket in memory    *\n",
      "*Baskets :        0 : Basket Size=      32000 bytes  Compression=   1.00     *\n",
      "*............................................................................*\n",
      "*Br    2 :rate[17]  : Double_t                                               *\n",
      "*Entries :      253 : Total  Size=      36168 bytes  File Size  =      10884 *\n",
      "*Baskets :        1 : Basket Size=      32000 bytes  Compression=   2.85     *\n",
      "*............................................................................*\n"
     ]
    }
   ],
   "source": [
    "tree.Print()"
   ]
  },
  {
   "cell_type": "code",
   "execution_count": null,
   "id": "783f122e-e0d1-462b-970a-922d23f157ff",
   "metadata": {},
   "outputs": [],
   "source": []
  },
  {
   "cell_type": "code",
   "execution_count": null,
   "id": "610b0d40-2534-40df-9af4-de1cc867781e",
   "metadata": {},
   "outputs": [],
   "source": []
  }
 ],
 "metadata": {
  "kernelspec": {
   "display_name": "Python 3 (ipykernel)",
   "language": "python",
   "name": "python3"
  },
  "language_info": {
   "codemirror_mode": {
    "name": "ipython",
    "version": 3
   },
   "file_extension": ".py",
   "mimetype": "text/x-python",
   "name": "python",
   "nbconvert_exporter": "python",
   "pygments_lexer": "ipython3",
   "version": "3.11.7"
  }
 },
 "nbformat": 4,
 "nbformat_minor": 5
}
